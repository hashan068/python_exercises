{
  "metadata": {
    "kernelspec": {
      "display_name": "Python 3",
      "language": "python",
      "name": "python3"
    },
    "language_info": {
      "name": "python",
      "version": "3.10.13",
      "mimetype": "text/x-python",
      "codemirror_mode": {
        "name": "ipython",
        "version": 3
      },
      "pygments_lexer": "ipython3",
      "nbconvert_exporter": "python",
      "file_extension": ".py"
    },
    "learntools_metadata": {
      "lesson_index": 3,
      "type": "exercise"
    },
    "kaggle": {
      "accelerator": "none",
      "dataSources": [],
      "isInternetEnabled": false,
      "language": "python",
      "sourceType": "notebook",
      "isGpuEnabled": false
    },
    "colab": {
      "name": "Exercise: Lists",
      "provenance": [],
      "include_colab_link": true
    }
  },
  "nbformat_minor": 0,
  "nbformat": 4,
  "cells": [
    {
      "cell_type": "markdown",
      "metadata": {
        "id": "view-in-github",
        "colab_type": "text"
      },
      "source": [
        "<a href=\"https://colab.research.google.com/github/hashan068/python_exercises/blob/main/Exercise_Lists.ipynb\" target=\"_parent\"><img src=\"https://colab.research.google.com/assets/colab-badge.svg\" alt=\"Open In Colab\"/></a>"
      ]
    },
    {
      "cell_type": "markdown",
      "source": [
        "**This notebook is an exercise in the [Python](https://www.kaggle.com/learn/python) course.  You can reference the tutorial at [this link](https://www.kaggle.com/colinmorris/lists).**\n",
        "\n",
        "---\n"
      ],
      "metadata": {
        "id": "o6Gz278AJ26J"
      }
    },
    {
      "cell_type": "markdown",
      "source": [
        "Things get more interesting with lists. You'll apply your new knowledge to solve the questions below. Remember to run the following cell first."
      ],
      "metadata": {
        "id": "QNwiPtnlJ26M"
      }
    },
    {
      "cell_type": "code",
      "source": [
        "from learntools.core import binder; binder.bind(globals())\n",
        "from learntools.python.ex4 import *\n",
        "print('Setup complete.')"
      ],
      "metadata": {
        "execution": {
          "iopub.status.busy": "2024-02-03T17:48:39.482522Z",
          "iopub.execute_input": "2024-02-03T17:48:39.483364Z",
          "iopub.status.idle": "2024-02-03T17:48:40.428568Z",
          "shell.execute_reply.started": "2024-02-03T17:48:39.483329Z",
          "shell.execute_reply": "2024-02-03T17:48:40.42754Z"
        },
        "trusted": true,
        "id": "BaGGZfwqJ26N",
        "outputId": "d0a7a646-da9e-4334-ac93-9dcbaef91963"
      },
      "execution_count": null,
      "outputs": [
        {
          "name": "stdout",
          "text": "Setup complete.\n",
          "output_type": "stream"
        }
      ]
    },
    {
      "cell_type": "markdown",
      "source": [
        "# 1.\n",
        "\n",
        "Complete the function below according to its docstring."
      ],
      "metadata": {
        "id": "VKFOMGJVJ26O"
      }
    },
    {
      "cell_type": "code",
      "source": [
        "def select_second(L):\n",
        "    if len(L) < 2:\n",
        "        return None\n",
        "    return L[1]\n",
        "\n",
        "# Check your answer\n",
        "q1.check()"
      ],
      "metadata": {
        "execution": {
          "iopub.status.busy": "2024-02-03T17:48:48.620933Z",
          "iopub.execute_input": "2024-02-03T17:48:48.62142Z",
          "iopub.status.idle": "2024-02-03T17:48:48.631071Z",
          "shell.execute_reply.started": "2024-02-03T17:48:48.621377Z",
          "shell.execute_reply": "2024-02-03T17:48:48.630288Z"
        },
        "trusted": true,
        "id": "TcMpj08-J26O",
        "outputId": "23c04c83-9167-4653-962b-99dd84fb96cf"
      },
      "execution_count": null,
      "outputs": [
        {
          "output_type": "display_data",
          "data": {
            "text/plain": "<IPython.core.display.Javascript object>",
            "application/javascript": "parent.postMessage({\"jupyterEvent\": \"custom.exercise_interaction\", \"data\": {\"outcomeType\": 1, \"valueTowardsCompletion\": 0.2, \"interactionType\": 1, \"questionType\": 2, \"questionId\": \"1_SelectSecondItem\", \"learnToolsVersion\": \"0.3.4\", \"failureMessage\": \"\", \"exceptionClass\": \"\", \"trace\": \"\"}}, \"*\")"
          },
          "metadata": {}
        },
        {
          "output_type": "display_data",
          "data": {
            "text/plain": "Correct",
            "text/markdown": "<span style=\"color:#33cc33\">Correct</span>"
          },
          "metadata": {}
        }
      ]
    },
    {
      "cell_type": "code",
      "source": [
        "q1.hint()\n",
        "q1.solution()"
      ],
      "metadata": {
        "execution": {
          "iopub.status.busy": "2023-10-29T18:34:14.874876Z",
          "iopub.execute_input": "2023-10-29T18:34:14.875436Z",
          "iopub.status.idle": "2023-10-29T18:34:14.889171Z",
          "shell.execute_reply.started": "2023-10-29T18:34:14.875396Z",
          "shell.execute_reply": "2023-10-29T18:34:14.887579Z"
        },
        "trusted": true,
        "id": "w8SHBpktJ26P",
        "outputId": "f1b33dfc-4513-4d4b-a5ce-5a90bb821162"
      },
      "execution_count": null,
      "outputs": [
        {
          "output_type": "display_data",
          "data": {
            "text/plain": "<IPython.core.display.Javascript object>",
            "application/javascript": "parent.postMessage({\"jupyterEvent\": \"custom.exercise_interaction\", \"data\": {\"interactionType\": 2, \"questionType\": 2, \"questionId\": \"1_SelectSecondItem\", \"learnToolsVersion\": \"0.3.4\", \"valueTowardsCompletion\": 0.0, \"failureMessage\": \"\", \"exceptionClass\": \"\", \"trace\": \"\", \"outcomeType\": 4}}, \"*\")"
          },
          "metadata": {}
        },
        {
          "output_type": "display_data",
          "data": {
            "text/plain": "Hint: Python starts counting at 0. So the second item isn't indexed with a 2",
            "text/markdown": "<span style=\"color:#3366cc\">Hint:</span> Python starts counting at 0. So the second item isn't indexed with a 2"
          },
          "metadata": {}
        },
        {
          "output_type": "display_data",
          "data": {
            "text/plain": "<IPython.core.display.Javascript object>",
            "application/javascript": "parent.postMessage({\"jupyterEvent\": \"custom.exercise_interaction\", \"data\": {\"interactionType\": 3, \"questionType\": 2, \"questionId\": \"1_SelectSecondItem\", \"learnToolsVersion\": \"0.3.4\", \"valueTowardsCompletion\": 0.0, \"failureMessage\": \"\", \"exceptionClass\": \"\", \"trace\": \"\", \"outcomeType\": 4}}, \"*\")"
          },
          "metadata": {}
        },
        {
          "output_type": "display_data",
          "data": {
            "text/plain": "Solution: \n```python\ndef select_second(L):\n    if len(L) < 2:\n        return None\n    return L[1]\n```",
            "text/markdown": "<span style=\"color:#33cc99\">Solution:</span> \n```python\ndef select_second(L):\n    if len(L) < 2:\n        return None\n    return L[1]\n```"
          },
          "metadata": {}
        }
      ]
    },
    {
      "cell_type": "markdown",
      "source": [
        "# 2.\n",
        "\n",
        "You are analyzing sports teams.  Members of each team are stored in a list. The Coach is the first name in the list, the captain is the second name in the list, and other players are listed after that.\n",
        "These lists are stored in another list, which starts with the best team and proceeds through the list to the worst team last.  Complete the function below to select the **captain** of the worst team."
      ],
      "metadata": {
        "id": "wRnrqnrcJ26P"
      }
    },
    {
      "cell_type": "code",
      "source": [
        "def losing_team_captain(teams):\n",
        "    \"\"\"Given a list of teams, where each team is a list of names, return the 2nd player (captain)\n",
        "    from the last listed team\n",
        "    \"\"\"\n",
        "    return teams[-1][1]\n",
        "    pass\n",
        "\n",
        "# Check your answer\n",
        "q2.check()\n",
        "\n",
        "#     last_listed_team = teams[-1]\n",
        "#     return last_listed_team[1]"
      ],
      "metadata": {
        "execution": {
          "iopub.status.busy": "2024-02-03T17:58:30.887222Z",
          "iopub.execute_input": "2024-02-03T17:58:30.888368Z",
          "iopub.status.idle": "2024-02-03T17:58:30.897896Z",
          "shell.execute_reply.started": "2024-02-03T17:58:30.888335Z",
          "shell.execute_reply": "2024-02-03T17:58:30.896582Z"
        },
        "trusted": true,
        "id": "qBvI5d6tJ26P",
        "outputId": "e0c3ca7b-d1f0-4e74-982e-be95faf03811"
      },
      "execution_count": null,
      "outputs": [
        {
          "output_type": "display_data",
          "data": {
            "text/plain": "<IPython.core.display.Javascript object>",
            "application/javascript": "parent.postMessage({\"jupyterEvent\": \"custom.exercise_interaction\", \"data\": {\"outcomeType\": 1, \"valueTowardsCompletion\": 0.2, \"interactionType\": 1, \"questionType\": 2, \"questionId\": \"2_LosingTeamCaptain\", \"learnToolsVersion\": \"0.3.4\", \"failureMessage\": \"\", \"exceptionClass\": \"\", \"trace\": \"\"}}, \"*\")"
          },
          "metadata": {}
        },
        {
          "output_type": "display_data",
          "data": {
            "text/plain": "Correct",
            "text/markdown": "<span style=\"color:#33cc33\">Correct</span>"
          },
          "metadata": {}
        }
      ]
    },
    {
      "cell_type": "code",
      "source": [
        "q2.hint()\n",
        "q2.solution()"
      ],
      "metadata": {
        "execution": {
          "iopub.status.busy": "2024-02-03T17:54:13.998671Z",
          "iopub.execute_input": "2024-02-03T17:54:13.999045Z",
          "iopub.status.idle": "2024-02-03T17:54:14.01052Z",
          "shell.execute_reply.started": "2024-02-03T17:54:13.999019Z",
          "shell.execute_reply": "2024-02-03T17:54:14.009434Z"
        },
        "trusted": true,
        "id": "4Tagm3P7J26Q",
        "outputId": "7007a530-2a9e-46c3-b790-8f62c342406f"
      },
      "execution_count": null,
      "outputs": [
        {
          "output_type": "display_data",
          "data": {
            "text/plain": "<IPython.core.display.Javascript object>",
            "application/javascript": "parent.postMessage({\"jupyterEvent\": \"custom.exercise_interaction\", \"data\": {\"interactionType\": 2, \"questionType\": 2, \"questionId\": \"2_LosingTeamCaptain\", \"learnToolsVersion\": \"0.3.4\", \"valueTowardsCompletion\": 0.0, \"failureMessage\": \"\", \"exceptionClass\": \"\", \"trace\": \"\", \"outcomeType\": 4}}, \"*\")"
          },
          "metadata": {}
        },
        {
          "output_type": "display_data",
          "data": {
            "text/plain": "Hint: The last item in a list `L` can be selected with `L[-1]`. The first item in the first sublist would be selected as `L[0][0]`",
            "text/markdown": "<span style=\"color:#3366cc\">Hint:</span> The last item in a list `L` can be selected with `L[-1]`. The first item in the first sublist would be selected as `L[0][0]`"
          },
          "metadata": {}
        },
        {
          "output_type": "display_data",
          "data": {
            "text/plain": "<IPython.core.display.Javascript object>",
            "application/javascript": "parent.postMessage({\"jupyterEvent\": \"custom.exercise_interaction\", \"data\": {\"interactionType\": 3, \"questionType\": 2, \"questionId\": \"2_LosingTeamCaptain\", \"learnToolsVersion\": \"0.3.4\", \"valueTowardsCompletion\": 0.0, \"failureMessage\": \"\", \"exceptionClass\": \"\", \"trace\": \"\", \"outcomeType\": 4}}, \"*\")"
          },
          "metadata": {}
        },
        {
          "output_type": "display_data",
          "data": {
            "text/plain": "Solution: \n```python\ndef losing_team_captain(teams):\n    return teams[-1][1]\n```",
            "text/markdown": "<span style=\"color:#33cc99\">Solution:</span> \n```python\ndef losing_team_captain(teams):\n    return teams[-1][1]\n```"
          },
          "metadata": {}
        }
      ]
    },
    {
      "cell_type": "markdown",
      "source": [
        "# 3.\n",
        "\n",
        "The next iteration of Mario Kart will feature an extra-infuriating new item, the *Purple Shell*. When used, it warps the last place racer into first place and the first place racer into last place. Complete the function below to implement the Purple Shell's effect."
      ],
      "metadata": {
        "id": "CfQsuefwJ26Q"
      }
    },
    {
      "cell_type": "code",
      "source": [
        "def purple_shell(racers):\n",
        "    \"\"\"Given a list of racers, set the first place racer (at the front of the list) to last\n",
        "    place and vice versa.\n",
        "\n",
        "    >>> r = [\"Mario\", \"Bowser\", \"Luigi\"]\n",
        "    >>> purple_shell(r)\n",
        "    >>> r\n",
        "    [\"Luigi\", \"Bowser\", \"Mario\"]\n",
        "    \"\"\"\n",
        "    a = racers[0]\n",
        "    b = racers[-1]\n",
        "    a, b = b, a\n",
        "    racers[0] = a\n",
        "    racers[-1] = b\n",
        "    pass\n",
        "\n",
        "# Check your answer\n",
        "q3.check()"
      ],
      "metadata": {
        "execution": {
          "iopub.status.busy": "2024-02-03T18:05:33.070282Z",
          "iopub.execute_input": "2024-02-03T18:05:33.07065Z",
          "iopub.status.idle": "2024-02-03T18:05:33.080053Z",
          "shell.execute_reply.started": "2024-02-03T18:05:33.070624Z",
          "shell.execute_reply": "2024-02-03T18:05:33.078882Z"
        },
        "trusted": true,
        "id": "NHzveQwzJ26Q",
        "outputId": "830c91e7-dc40-4fa8-8bb0-f2e04d2a35c9"
      },
      "execution_count": null,
      "outputs": [
        {
          "output_type": "display_data",
          "data": {
            "text/plain": "<IPython.core.display.Javascript object>",
            "application/javascript": "parent.postMessage({\"jupyterEvent\": \"custom.exercise_interaction\", \"data\": {\"outcomeType\": 1, \"valueTowardsCompletion\": 0.2, \"interactionType\": 1, \"questionType\": 2, \"questionId\": \"3_PurpleShell\", \"learnToolsVersion\": \"0.3.4\", \"failureMessage\": \"\", \"exceptionClass\": \"\", \"trace\": \"\"}}, \"*\")"
          },
          "metadata": {}
        },
        {
          "output_type": "display_data",
          "data": {
            "text/plain": "Correct",
            "text/markdown": "<span style=\"color:#33cc33\">Correct</span>"
          },
          "metadata": {}
        }
      ]
    },
    {
      "cell_type": "code",
      "source": [
        "q3.hint()\n",
        "q3.solution()"
      ],
      "metadata": {
        "execution": {
          "iopub.status.busy": "2024-02-03T18:05:41.44675Z",
          "iopub.execute_input": "2024-02-03T18:05:41.447254Z",
          "iopub.status.idle": "2024-02-03T18:05:41.463043Z",
          "shell.execute_reply.started": "2024-02-03T18:05:41.447214Z",
          "shell.execute_reply": "2024-02-03T18:05:41.46199Z"
        },
        "trusted": true,
        "id": "f1qJVNDSJ26Q",
        "outputId": "bb0797ee-3263-4c49-a7b8-179189836bce"
      },
      "execution_count": null,
      "outputs": [
        {
          "output_type": "display_data",
          "data": {
            "text/plain": "<IPython.core.display.Javascript object>",
            "application/javascript": "parent.postMessage({\"jupyterEvent\": \"custom.exercise_interaction\", \"data\": {\"interactionType\": 2, \"questionType\": 2, \"questionId\": \"3_PurpleShell\", \"learnToolsVersion\": \"0.3.4\", \"valueTowardsCompletion\": 0.0, \"failureMessage\": \"\", \"exceptionClass\": \"\", \"trace\": \"\", \"outcomeType\": 4}}, \"*\")"
          },
          "metadata": {}
        },
        {
          "output_type": "display_data",
          "data": {
            "text/plain": "Hint: Your function should change the list it receives, but not return anything\n\nTo swap the list elements, think back to the code you used in the very first exercise to swap two variables.",
            "text/markdown": "<span style=\"color:#3366cc\">Hint:</span> Your function should change the list it receives, but not return anything\n\nTo swap the list elements, think back to the code you used in the very first exercise to swap two variables."
          },
          "metadata": {}
        },
        {
          "output_type": "display_data",
          "data": {
            "text/plain": "<IPython.core.display.Javascript object>",
            "application/javascript": "parent.postMessage({\"jupyterEvent\": \"custom.exercise_interaction\", \"data\": {\"interactionType\": 3, \"questionType\": 2, \"questionId\": \"3_PurpleShell\", \"learnToolsVersion\": \"0.3.4\", \"valueTowardsCompletion\": 0.0, \"failureMessage\": \"\", \"exceptionClass\": \"\", \"trace\": \"\", \"outcomeType\": 4}}, \"*\")"
          },
          "metadata": {}
        },
        {
          "output_type": "display_data",
          "data": {
            "text/plain": "Solution: \n```python\ndef purple_shell(racers):\n    # One slick way to do the swap is x[0], x[-1] = x[-1], x[0].\n    temp = racers[0]\n    racers[0] = racers[-1]\n    racers[-1] = temp\n```",
            "text/markdown": "<span style=\"color:#33cc99\">Solution:</span> \n```python\ndef purple_shell(racers):\n    # One slick way to do the swap is x[0], x[-1] = x[-1], x[0].\n    temp = racers[0]\n    racers[0] = racers[-1]\n    racers[-1] = temp\n```"
          },
          "metadata": {}
        }
      ]
    },
    {
      "cell_type": "markdown",
      "source": [
        "# 4.\n",
        "\n",
        "What are the lengths of the following lists? Fill in the variable `lengths` with your predictions. (Try to make a prediction for each list *without* just calling `len()` on it.)"
      ],
      "metadata": {
        "id": "l1Pg_-g6J26R"
      }
    },
    {
      "cell_type": "code",
      "source": [
        "a = [1, 2, 3]\n",
        "b = [1, [2, 3]]\n",
        "c = []\n",
        "d = [1, 2, 3][1:]\n",
        "\n",
        "# Put your predictions in the list below. Lengths should contain 4 numbers, the\n",
        "# first being the length of a, the second being the length of b and so on.\n",
        "lengths = []\n",
        "\n",
        "# Check your answer\n",
        "q4.check()"
      ],
      "metadata": {
        "id": "iqnvM0dWJ26R"
      },
      "execution_count": null,
      "outputs": []
    },
    {
      "cell_type": "code",
      "source": [
        "# line below provides some explanation\n",
        "#q4.solution()"
      ],
      "metadata": {
        "collapsed": true,
        "jupyter": {
          "outputs_hidden": true
        },
        "id": "8zMnLiE8J26R"
      },
      "execution_count": null,
      "outputs": []
    },
    {
      "cell_type": "markdown",
      "source": [
        "# 5. <span title=\"A bit spicy\" style=\"color: darkgreen \">🌶️</span>\n",
        "\n",
        "We're using lists to record people who attended our party and what order they arrived in. For example, the following list represents a party with 7 guests, in which Adela showed up first and Ford was the last to arrive:\n",
        "\n",
        "    party_attendees = ['Adela', 'Fleda', 'Owen', 'May', 'Mona', 'Gilbert', 'Ford']\n",
        "\n",
        "A guest is considered 'fashionably late' if they arrived after at least half of the party's guests. However, they must not be the very last guest (that's taking it too far). In the above example, Mona and Gilbert are the only guests who were fashionably late.\n",
        "\n",
        "Complete the function below which takes a list of party attendees as well as a person, and tells us whether that person is fashionably late."
      ],
      "metadata": {
        "id": "W1BwcJAKJ26R"
      }
    },
    {
      "cell_type": "code",
      "source": [
        "def fashionably_late(arrivals, name):\n",
        "    \"\"\"Given an ordered list of arrivals to the party and a name, return whether the guest with that\n",
        "    name was fashionably late.\n",
        "    \"\"\"\n",
        "    pass\n",
        "\n",
        "# Check your answer\n",
        "q5.check()"
      ],
      "metadata": {
        "id": "E4dyx6O5J26R"
      },
      "execution_count": null,
      "outputs": []
    },
    {
      "cell_type": "code",
      "source": [
        "#q5.hint()\n",
        "#q5.solution()"
      ],
      "metadata": {
        "collapsed": true,
        "jupyter": {
          "outputs_hidden": true
        },
        "id": "r9OMfiGaJ26S"
      },
      "execution_count": null,
      "outputs": []
    },
    {
      "cell_type": "markdown",
      "source": [
        "# Keep Going\n",
        "\n",
        "That's it for lists and tuples! Now you have the baseline knowledge to **[learn about loops](https://www.kaggle.com/colinmorris/loops-and-list-comprehensions)**, which is where lists and tuples get really interesting."
      ],
      "metadata": {
        "id": "2jGNmQHmJ26S"
      }
    },
    {
      "cell_type": "markdown",
      "source": [
        "---\n",
        "\n",
        "\n",
        "\n",
        "\n",
        "*Have questions or comments? Visit the [course discussion forum](https://www.kaggle.com/learn/python/discussion) to chat with other learners.*"
      ],
      "metadata": {
        "id": "D4n5TwXKJ26S"
      }
    }
  ]
}